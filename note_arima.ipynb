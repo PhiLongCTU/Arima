{
 "cells": [
  {
   "cell_type": "markdown",
   "metadata": {},
   "source": [
    "Tài liệu tham khảo"
   ]
  },
  {
   "cell_type": "markdown",
   "metadata": {},
   "source": [
    "https://blog.vietnamlab.vn/phan-tich-du-bao-chuoi-thoi-gian-time-series/\n",
    "https://phamdinhkhanh.github.io/2019/12/12/ARIMAmodel.html\n",
    "https://www.kaggle.com/code/saurav9786/time-series-tutorial\n",
    "https://www.kaggle.com/code/lavonteadams/shampo-sales-arima\n",
    "https://machinelearningmastery.com/time-series-data-stationary-python/\n",
    "https://machinelearningmastery.com/arima-for-time-series-forecasting-with-python/\n",
    "https://github.com/krishnaik06/ARIMA-And-Seasonal-ARIMA/blob/master/Untitled.ipynb"
   ]
  }
 ],
 "metadata": {
  "kernelspec": {
   "display_name": "Python 3.9.0 64-bit",
   "language": "python",
   "name": "python3"
  },
  "language_info": {
   "name": "python",
   "version": "3.9.0"
  },
  "orig_nbformat": 4,
  "vscode": {
   "interpreter": {
    "hash": "11938c6bc6919ae2720b4d5011047913343b08a43b18698fd82dedb0d4417594"
   }
  }
 },
 "nbformat": 4,
 "nbformat_minor": 2
}
